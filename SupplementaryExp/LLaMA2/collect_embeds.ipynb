{
 "cells": [
  {
   "cell_type": "code",
   "execution_count": 1,
   "metadata": {},
   "outputs": [],
   "source": [
    "import torch\n",
    "import os\n",
    "import json\n",
    "from tqdm import tqdm\n",
    "import numpy as np\n",
    "import transformers\n",
    "from transformers import AutoTokenizer, AutoModelForCausalLM\n",
    "import torch.nn as nn\n",
    "import pickle\n",
    "import gc\n",
    "# Set this to disable warning messages in the generation mode.\n",
    "transformers.utils.logging.set_verbosity_error()\n",
    "import torch.nn.functional as F\n",
    "import transformers.generation.logits_process as logits_process\n",
    "import transformers.generation.stopping_criteria as stopping_criteria\n",
    "from torch.nn import MSELoss,CrossEntropyLoss\n",
    "from torch.cuda.amp import autocast, GradScaler\n",
    "import time\n",
    "from tqdm import trange"
   ]
  },
  {
   "cell_type": "code",
   "execution_count": 2,
   "metadata": {},
   "outputs": [],
   "source": [
    "def LoadJson(path):\n",
    "    '''\n",
    "    '''\n",
    "    res=[]\n",
    "    with open(path,mode='r',encoding='utf-8') as f:\n",
    "        dicts = json.load(f)\n",
    "        res=dicts\n",
    "    return res\n",
    "\n",
    "def WriteJson(data,path):\n",
    "    '''\n",
    "    '''\n",
    "    with open(path,'w',encoding='utf-8') as f:\n",
    "        json.dump(data,f,indent=4)"
   ]
  },
  {
   "cell_type": "code",
   "execution_count": 3,
   "metadata": {},
   "outputs": [
    {
     "data": {
      "application/vnd.jupyter.widget-view+json": {
       "model_id": "37d7b9a03ccc49cea23180392fe2e0ff",
       "version_major": 2,
       "version_minor": 0
      },
      "text/plain": [
       "Loading checkpoint shards:   0%|          | 0/2 [00:00<?, ?it/s]"
      ]
     },
     "metadata": {},
     "output_type": "display_data"
    },
    {
     "name": "stderr",
     "output_type": "stream",
     "text": [
      "/home/lenijwp/.conda/envs/llmtest/lib/python3.8/site-packages/transformers/generation/configuration_utils.py:362: UserWarning: `do_sample` is set to `False`. However, `temperature` is set to `0.9` -- this flag is only used in sample-based generation modes. You should set `do_sample=True` or unset `temperature`. This was detected when initializing the generation config instance, which means the corresponding file may hold incorrect parameterization and should be fixed.\n",
      "  warnings.warn(\n",
      "/home/lenijwp/.conda/envs/llmtest/lib/python3.8/site-packages/transformers/generation/configuration_utils.py:367: UserWarning: `do_sample` is set to `False`. However, `top_p` is set to `0.6` -- this flag is only used in sample-based generation modes. You should set `do_sample=True` or unset `top_p`. This was detected when initializing the generation config instance, which means the corresponding file may hold incorrect parameterization and should be fixed.\n",
      "  warnings.warn(\n"
     ]
    }
   ],
   "source": [
    "CACHE_DIR ='/home/lenijwp/datacache/huggingface/'\n",
    "device = 'cuda:1'\n",
    "# model_name = 'TDC2023/trojan-large-pythia-6.9b'\n",
    "model_path = '/home/lenijwp/codes/tdc2023-starter-kit/red_teaming/data/dev/base/model'\n",
    "model = AutoModelForCausalLM.from_pretrained(model_path, torch_dtype=torch.float16,low_cpu_mem_usage=True,device_map=device).eval()\n",
    "use_fast_tokenizer = \"LlamaForCausalLM\" not in model.config.architectures\n",
    "tokenizer = AutoTokenizer.from_pretrained(model_path, padding_side='left', use_fast=use_fast_tokenizer)\n",
    "tokenizer.pad_token = tokenizer.eos_token"
   ]
  },
  {
   "cell_type": "code",
   "execution_count": 4,
   "metadata": {},
   "outputs": [
    {
     "name": "stdout",
     "output_type": "stream",
     "text": [
      "\n"
     ]
    }
   ],
   "source": [
    "hook_embeddings = []\n",
    "# hook_outputs = []\n",
    "\n",
    "def remove_hooks(model):\n",
    "    for layer in model.children():\n",
    "        if isinstance(layer, nn.Module):\n",
    "            remove_hooks(layer)\n",
    "        if hasattr(layer, '_forward_hooks'):\n",
    "            layer._forward_hooks.clear()\n",
    "        if hasattr(layer, '_backward_hooks'):\n",
    "            layer._backward_hooks.clear()\n",
    "remove_hooks(model)\n",
    "\n",
    "def hook(module, fea_in, fea_out):\n",
    "    hook_embeddings.append(fea_in)\n",
    "    # hook_outputs.append(fea_out)\n",
    "    return None\n",
    "\n",
    "layer_name = 'lm_head'\n",
    "for (name, module) in model.named_modules():\n",
    "    if name == layer_name:\n",
    "        print(\"\")\n",
    "        # module.requires_grad_(True)\n",
    "        module.register_forward_hook(hook=hook)\n",
    "\n",
    "def clear_hooks():\n",
    "    global hook_embeddings\n",
    "    # global hook_outputs\n",
    "    hook_embeddings.clear()\n",
    "    # hook_outputs.clear()\n",
    "    torch.cuda.empty_cache()\n",
    "\n"
   ]
  },
  {
   "cell_type": "code",
   "execution_count": 5,
   "metadata": {},
   "outputs": [],
   "source": [
    "def get_embeddings(text):\n",
    "    global hook_embeddings\n",
    "    \n",
    "    input_ids = tokenizer(text, return_tensors=\"pt\", truncation=True, padding=True).input_ids.to(device)\n",
    "    model(input_ids)\n",
    "    embeddings = hook_embeddings[-1][0][:,-1,:]\n",
    "    ret = []\n",
    "    for i in range(embeddings.shape[0]):\n",
    "        ret.append(embeddings[i].cpu().detach().numpy())\n",
    "    \n",
    "    clear_hooks()\n",
    "    \n",
    "    return ret"
   ]
  },
  {
   "cell_type": "code",
   "execution_count": null,
   "metadata": {},
   "outputs": [],
   "source": []
  },
  {
   "cell_type": "code",
   "execution_count": 7,
   "metadata": {},
   "outputs": [
    {
     "name": "stderr",
     "output_type": "stream",
     "text": [
      "Collecting: 100%|██████████| 16286/16286 [00:54<00:00, 301.06it/s]\n"
     ]
    },
    {
     "name": "stdout",
     "output_type": "stream",
     "text": [
      "(16286, 4096)\n"
     ]
    },
    {
     "name": "stderr",
     "output_type": "stream",
     "text": [
      "Collecting: 100%|██████████| 8544/8544 [00:55<00:00, 154.69it/s]\n"
     ]
    },
    {
     "name": "stdout",
     "output_type": "stream",
     "text": [
      "(8544, 4096)\n",
      "SenWordFuzz\n"
     ]
    },
    {
     "name": "stderr",
     "output_type": "stream",
     "text": [
      "100%|██████████| 1417/1417 [01:28<00:00, 15.96it/s]\n"
     ]
    },
    {
     "name": "stdout",
     "output_type": "stream",
     "text": [
      "(1417, 3, 4096)\n",
      "swapGender_sentiSynonymSubstitution\n"
     ]
    },
    {
     "name": "stderr",
     "output_type": "stream",
     "text": [
      "100%|██████████| 681/681 [00:48<00:00, 14.07it/s]\n"
     ]
    },
    {
     "name": "stdout",
     "output_type": "stream",
     "text": [
      "(681, 3, 4096)\n",
      "synon_contr\n"
     ]
    },
    {
     "name": "stderr",
     "output_type": "stream",
     "text": [
      "100%|██████████| 588/588 [01:08<00:00,  8.63it/s]"
     ]
    },
    {
     "name": "stdout",
     "output_type": "stream",
     "text": [
      "(588, 3, 4096)\n"
     ]
    },
    {
     "name": "stderr",
     "output_type": "stream",
     "text": [
      "\n"
     ]
    }
   ],
   "source": [
    "\n",
    "\n",
    "Dataset = LoadJson('/home/lenijwp/codes/costello/data/initial_data/sst_tokens.json')\n",
    "\n",
    "tmp = []\n",
    "\n",
    "Embs=[]\n",
    "\n",
    "for key in tqdm(list(Dataset.keys()),'Collecting'):\n",
    "    tmp.append(str(key))\n",
    "\n",
    "    if len(tmp)==20:\n",
    "        response = get_embeddings(tmp)\n",
    "        for ele in response:\n",
    "            Embs.append(ele)\n",
    "    \n",
    "        tmp=[]\n",
    "    \n",
    "\n",
    "\n",
    "\n",
    "        \n",
    "if len(tmp)!=0:\n",
    "    response = get_embeddings(tmp)\n",
    "    for ele in response:\n",
    "        Embs.append(ele)\n",
    "    time.sleep(1)\n",
    "    tmp=[]\n",
    "\n",
    "\n",
    "saveEmb = np.array(Embs)\n",
    "print(saveEmb.shape)\n",
    "\n",
    "np.save('./tokens.npy',saveEmb)\n",
    "\n",
    "\n",
    "Dataset = LoadJson('/home/lenijwp/codes/costello/data/initial_data/sst_train.json')\n",
    "\n",
    "tmp = []\n",
    "\n",
    "Embs=[]\n",
    "\n",
    "for key in tqdm(list(Dataset.keys()),'Collecting'):\n",
    "    tmp.append(Dataset[key][0])\n",
    "\n",
    "    if len(tmp)==10:\n",
    "        response = get_embeddings(tmp)\n",
    "        for ele in response:\n",
    "            Embs.append(ele)\n",
    "   \n",
    "        tmp=[]\n",
    "    \n",
    "        \n",
    "if len(tmp)!=0:\n",
    "    response = get_embeddings(tmp)\n",
    "    for ele in response:\n",
    "        Embs.append(ele)\n",
    "    time.sleep(1)\n",
    "    tmp=[]\n",
    "\n",
    "saveEmb = np.array(Embs)\n",
    "print(saveEmb.shape)\n",
    "\n",
    "np.save('./sst2-train.npy',saveEmb)\n",
    "\n",
    "\n",
    "TestSuite = LoadJson('/home/lenijwp/codes/costello/data/contrast_set/ctset1.json')\n",
    "\n",
    "for MuType in TestSuite.keys():\n",
    "\n",
    "    # if str(MuType)=='synon_contr':\n",
    "    #     continue\n",
    "    print(MuType)\n",
    "    #print(len(TestSuite[MuType]))\n",
    "\n",
    "    Data = TestSuite[MuType]\n",
    "\n",
    "    Embs=[]\n",
    "\n",
    "\n",
    "\n",
    "    for i in trange(len(Data)):\n",
    "\n",
    "        response = get_embeddings(Data[i])\n",
    "        Embs.append([response[0], response[1], response[2]])\n",
    "\n",
    " \n",
    "\n",
    "    saveEmb = np.array(Embs)\n",
    "    print(saveEmb.shape)\n",
    "\n",
    "    np.save('./'+str(MuType)+'.npy',saveEmb)\n",
    "\n",
    "\n",
    "\n"
   ]
  },
  {
   "cell_type": "code",
   "execution_count": null,
   "metadata": {},
   "outputs": [],
   "source": []
  }
 ],
 "metadata": {
  "kernelspec": {
   "display_name": "Python 3 (ipykernel)",
   "language": "python",
   "name": "python3"
  },
  "language_info": {
   "codemirror_mode": {
    "name": "ipython",
    "version": 3
   },
   "file_extension": ".py",
   "mimetype": "text/x-python",
   "name": "python",
   "nbconvert_exporter": "python",
   "pygments_lexer": "ipython3",
   "version": "3.8.13"
  },
  "orig_nbformat": 4
 },
 "nbformat": 4,
 "nbformat_minor": 2
}
