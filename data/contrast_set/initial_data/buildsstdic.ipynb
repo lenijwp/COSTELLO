{
 "cells": [
  {
   "cell_type": "code",
   "execution_count": 1,
   "metadata": {},
   "outputs": [],
   "source": [
    "import os\n",
    "import json\n",
    "import nltk\n",
    "import sys\n",
    "import os\n",
    "from nltk.corpus import wordnet\n",
    "from nltk.tag import pos_tag\n",
    "from nltk.tokenize import word_tokenize\n",
    "from nltk.tokenize.treebank import TreebankWordTokenizer, TreebankWordDetokenizer\n",
    "from nltk.corpus import stopwords\n",
    "from nltk.corpus import words\n",
    "\n",
    "from nltk.stem import WordNetLemmatizer\n",
    "wnl = WordNetLemmatizer()\n"
   ]
  },
  {
   "cell_type": "code",
   "execution_count": 2,
   "metadata": {},
   "outputs": [],
   "source": [
    "def WriteJson(data,path):\n",
    "    '''\n",
    "    '''\n",
    "    with open(path,'w',encoding='utf-8') as f:\n",
    "        json.dump(data,f,indent=4)\n",
    "\n",
    "def LoadJson(path):\n",
    "    '''\n",
    "    '''\n",
    "    res=[]\n",
    "    with open(path,mode='r',encoding='utf-8') as f:\n",
    "        dicts = json.load(f)\n",
    "        res=dicts\n",
    "    return res"
   ]
  },
  {
   "cell_type": "code",
   "execution_count": 3,
   "metadata": {},
   "outputs": [],
   "source": [
    "# corpus = []\n",
    "\n",
    "# data = LoadJson('./sst_train.json')\n",
    "# for key in data.keys():\n",
    "#     corpus.append(data[key][0])\n",
    "# data = LoadJson('./sst_test.json')\n",
    "# for key in data.keys():\n",
    "#     corpus.append(data[key][0])\n",
    "\n",
    "corpus = []\n",
    "\n",
    "data = LoadJson('./mrpc_train.json')\n",
    "for key in data.keys():\n",
    "    corpus.append(data[key][0])\n",
    "data = LoadJson('./mrpc_test.json')\n",
    "for key in data.keys():\n",
    "    corpus.append(data[key][0])"
   ]
  },
  {
   "cell_type": "code",
   "execution_count": 4,
   "metadata": {},
   "outputs": [],
   "source": [
    "worddict={}"
   ]
  },
  {
   "cell_type": "code",
   "execution_count": 5,
   "metadata": {},
   "outputs": [
    {
     "name": "stdout",
     "output_type": "stream",
     "text": [
      "14889\n"
     ]
    }
   ],
   "source": [
    "for i in range(len(corpus)):\n",
    "    sent = corpus[i]\n",
    "    words = nltk.word_tokenize(sent)\n",
    "    tagged = nltk.pos_tag(words)\n",
    "\n",
    "\n",
    "    aft_lem = [] #词形还原后的列表\n",
    "    for pstg in tagged:\n",
    "        word,tag = pstg\n",
    "        if tag.startswith('NN'):\n",
    "            aft_lem.append(wnl.lemmatize(word,'n'))\n",
    "        elif tag.startswith('JJ'):\n",
    "            aft_lem.append(wnl.lemmatize(word,'a'))\n",
    "        elif tag.startswith('VB'):\n",
    "            aft_lem.append(wnl.lemmatize(word,'v'))\n",
    "        elif tag.startswith('RB'):\n",
    "            aft_lem.append(wnl.lemmatize(word,'r'))\n",
    "        else :\n",
    "            aft_lem.append(word)\n",
    "\n",
    "    for word in aft_lem:\n",
    "        if word.lower() not in worddict:\n",
    "            worddict[word.lower()] = 1\n",
    "\n",
    "print(len(worddict))\n",
    "    "
   ]
  },
  {
   "cell_type": "code",
   "execution_count": 6,
   "metadata": {},
   "outputs": [],
   "source": [
    "WriteJson(worddict,'./mrpc_tokens.json')"
   ]
  },
  {
   "cell_type": "code",
   "execution_count": null,
   "metadata": {},
   "outputs": [],
   "source": []
  }
 ],
 "metadata": {
  "kernelspec": {
   "display_name": "nlptest",
   "language": "python",
   "name": "python3"
  },
  "language_info": {
   "codemirror_mode": {
    "name": "ipython",
    "version": 3
   },
   "file_extension": ".py",
   "mimetype": "text/x-python",
   "name": "python",
   "nbconvert_exporter": "python",
   "pygments_lexer": "ipython3",
   "version": "3.8.0"
  },
  "orig_nbformat": 4,
  "vscode": {
   "interpreter": {
    "hash": "1f99192980e51160ab9fabac52ddf241660dbf0348bcae5ee60561a9ecf1382c"
   }
  }
 },
 "nbformat": 4,
 "nbformat_minor": 2
}
